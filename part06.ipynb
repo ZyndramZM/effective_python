{
 "cells": [
  {
   "cell_type": "markdown",
   "metadata": {
    "slideshow": {
     "slide_type": "slide"
    }
   },
   "source": [
    "# Efektywne programowanie w języku Python \n",
    "\n",
    "## wykład 6a"
   ]
  },
  {
   "cell_type": "markdown",
   "metadata": {
    "slideshow": {
     "slide_type": "slide"
    }
   },
   "source": [
    "![alt text](images/headlogo.png \"headlogo\")"
   ]
  },
  {
   "cell_type": "markdown",
   "metadata": {
    "slideshow": {
     "slide_type": "fragment"
    }
   },
   "source": [
    "Cython is an optimising static compiler for both the Python programming language and the extended Cython programming language (based on Pyrex). It makes writing C extensions for Python as easy as Python itself."
   ]
  },
  {
   "cell_type": "markdown",
   "metadata": {
    "slideshow": {
     "slide_type": "subslide"
    }
   },
   "source": [
    "Cython gives you the combined power of Python and C to let you \n",
    "- write Python code that calls back and forth from and to C or C++ code natively at any point.\n",
    "- easily tune readable Python code into plain C performance by adding static type declarations.\n",
    "- use combined source code level debugging to find bugs in your Python, Cython and C code.\n",
    "- interact efficiently with large data sets, e.g. using multi-dimensional NumPy arrays.\n",
    "- quickly build your applications within the large, mature and widely used CPython ecosystem.\n",
    "- integrate natively with existing code and data from legacy, low-level or high-performance libraries and applications."
   ]
  },
  {
   "cell_type": "markdown",
   "metadata": {
    "slideshow": {
     "slide_type": "slide"
    }
   },
   "source": [
    "# Przykład"
   ]
  },
  {
   "cell_type": "code",
   "execution_count": 1,
   "metadata": {
    "slideshow": {
     "slide_type": "fragment"
    }
   },
   "outputs": [],
   "source": [
    "def fib(n):\n",
    "    if n<2:\n",
    "        return n\n",
    "    return fib(n-1)+fib(n-2)"
   ]
  },
  {
   "cell_type": "code",
   "execution_count": 2,
   "metadata": {
    "slideshow": {
     "slide_type": "fragment"
    }
   },
   "outputs": [
    {
     "data": {
      "text/plain": "6765"
     },
     "execution_count": 2,
     "metadata": {},
     "output_type": "execute_result"
    }
   ],
   "source": [
    "fib(20)"
   ]
  },
  {
   "cell_type": "code",
   "execution_count": 3,
   "metadata": {
    "slideshow": {
     "slide_type": "fragment"
    }
   },
   "outputs": [],
   "source": [
    "# fib(100) # it tooks a lot of time ...."
   ]
  },
  {
   "cell_type": "code",
   "execution_count": 4,
   "metadata": {
    "slideshow": {
     "slide_type": "subslide"
    }
   },
   "outputs": [
    {
     "name": "stdout",
     "output_type": "stream",
     "text": [
      "3.81 ms ± 222 µs per loop (mean ± std. dev. of 7 runs, 100 loops each)\n"
     ]
    }
   ],
   "source": [
    "%timeit fib(20)"
   ]
  },
  {
   "cell_type": "markdown",
   "metadata": {
    "slideshow": {
     "slide_type": "fragment"
    }
   },
   "source": [
    "It means that the timer did the following:\n",
    "- Run fib(20) one hundred times, store the total running time\n",
    "- Run fib(20) one hundred times, store the total running time\n",
    "- Run fib(20) one hundred times, store the total running time\n",
    "- Get the smallest running time from the three runs, divide it by 100, and outputs the result as the best running time for fib(20)"
   ]
  },
  {
   "cell_type": "markdown",
   "metadata": {
    "slideshow": {
     "slide_type": "slide"
    }
   },
   "source": [
    "## Compiling With Cython"
   ]
  },
  {
   "cell_type": "code",
   "execution_count": 5,
   "metadata": {
    "slideshow": {
     "slide_type": "subslide"
    }
   },
   "outputs": [
    {
     "name": "stdout",
     "output_type": "stream",
     "text": [
      "Requirement already satisfied: Cython in c:\\programdata\\anaconda3\\envs\\effectivepython\\lib\\site-packages (0.29.32)\n"
     ]
    }
   ],
   "source": [
    "!pip install Cython"
   ]
  },
  {
   "cell_type": "markdown",
   "metadata": {
    "slideshow": {
     "slide_type": "fragment"
    }
   },
   "source": [
    "Once installed, we load Cython in the notebook with the %load_ext magic"
   ]
  },
  {
   "cell_type": "code",
   "execution_count": 6,
   "metadata": {
    "slideshow": {
     "slide_type": "fragment"
    }
   },
   "outputs": [],
   "source": [
    "%load_ext Cython"
   ]
  },
  {
   "cell_type": "markdown",
   "metadata": {
    "slideshow": {
     "slide_type": "subslide"
    }
   },
   "source": [
    "We can then compile code in our notebook.  All we have to do is to put all the code we want to compile in one cell, including the required import statements, and start that cell with the cell magic `%%cython`:"
   ]
  },
  {
   "cell_type": "code",
   "execution_count": 7,
   "metadata": {
    "slideshow": {
     "slide_type": "fragment"
    }
   },
   "outputs": [],
   "source": [
    "%%cython\n",
    "def fib_cython(n):\n",
    "    if n<2:\n",
    "        return n\n",
    "    return fib_cython(n-1)+fib_cython(n-2)"
   ]
  },
  {
   "cell_type": "code",
   "execution_count": 29,
   "metadata": {
    "slideshow": {
     "slide_type": "fragment"
    }
   },
   "outputs": [
    {
     "name": "stdout",
     "output_type": "stream",
     "text": [
      "856 µs ± 17.9 µs per loop (mean ± std. dev. of 7 runs, 1,000 loops each)\n"
     ]
    }
   ],
   "source": [
    "%timeit fib_cython(20)"
   ]
  },
  {
   "cell_type": "markdown",
   "metadata": {
    "slideshow": {
     "slide_type": "fragment"
    }
   },
   "source": [
    "Wow, more than 3 times faster than the original Python code!"
   ]
  },
  {
   "cell_type": "markdown",
   "metadata": {
    "slideshow": {
     "slide_type": "subslide"
    }
   },
   "source": [
    "We can also try with static typing.  We declare the function with the keyword cpdef instead of def.  It allows us to type the parameters of the function with their corresponding C types.  Our code becomes."
   ]
  },
  {
   "cell_type": "code",
   "execution_count": 9,
   "metadata": {
    "slideshow": {
     "slide_type": "fragment"
    }
   },
   "outputs": [],
   "source": [
    "%%cython\n",
    " \n",
    "cpdef long fib_cython_type(long n):\n",
    "    if n<2:\n",
    "        return n\n",
    "    return fib_cython_type(n-1)+fib_cython_type(n-2)"
   ]
  },
  {
   "cell_type": "code",
   "execution_count": 28,
   "metadata": {
    "slideshow": {
     "slide_type": "fragment"
    }
   },
   "outputs": [
    {
     "name": "stdout",
     "output_type": "stream",
     "text": [
      "33.5 µs ± 8.04 µs per loop (mean ± std. dev. of 7 runs, 10,000 loops each)\n"
     ]
    }
   ],
   "source": [
    "%timeit fib_cython_type(20)"
   ]
  },
  {
   "cell_type": "markdown",
   "metadata": {
    "slideshow": {
     "slide_type": "subslide"
    }
   },
   "source": [
    "| function  | helper | time  | \n",
    "|---|---|---|\n",
    "| fib  | pure python | 3.26 ms |\n",
    "| fib_cython  | pure cython | 0.9 ms |\n",
    "| fib_cython_type  | c-type | 24 µs |"
   ]
  },
  {
   "cell_type": "markdown",
   "metadata": {
    "slideshow": {
     "slide_type": "fragment"
    }
   },
   "source": [
    "One can argue that static typing defeats the purpose of Python.  I kind of agree with that in general, and we will see later a way to avoid this without sacrificing performance.  But I don't think this is the issue here.  The Fibonacci function is meant to be called with integers.  What we lose with static typing is the arbitrary precision that Python provides.  In the case of Fibonacci, using the C type long limits the size of the input parameter because too large parameters would result in integer overflow. "
   ]
  },
  {
   "cell_type": "markdown",
   "metadata": {
    "slideshow": {
     "slide_type": "slide"
    }
   },
   "source": [
    "### It's not over yet"
   ]
  },
  {
   "cell_type": "markdown",
   "metadata": {
    "slideshow": {
     "slide_type": "slide"
    }
   },
   "source": [
    "## Caching Computation"
   ]
  },
  {
   "cell_type": "markdown",
   "metadata": {
    "slideshow": {
     "slide_type": "subslide"
    }
   },
   "source": [
    "We can do better while keeping Python arbitrary precision.  The fib function repeats the same computation many times.  For instance, fib(20) will call fib(19) and fib(18).  In turn, fib(19) will call fib(18) and fib(17).  As a result fib(18) will be called twice.  A little analysis shows that fib(17) will be called 3 times, and fib(16) five times, etc. "
   ]
  },
  {
   "cell_type": "code",
   "execution_count": 11,
   "metadata": {
    "slideshow": {
     "slide_type": "fragment"
    }
   },
   "outputs": [
    {
     "name": "stdout",
     "output_type": "stream",
     "text": [
      "Collecting backports.functools_lru_cache\n",
      "  Downloading backports.functools_lru_cache-1.6.4-py2.py3-none-any.whl (5.9 kB)\n",
      "Installing collected packages: backports.functools_lru_cache\n",
      "Successfully installed backports.functools_lru_cache-1.6.4\n"
     ]
    }
   ],
   "source": [
    "!pip install backports.functools_lru_cache"
   ]
  },
  {
   "cell_type": "code",
   "execution_count": 12,
   "metadata": {
    "slideshow": {
     "slide_type": "fragment"
    }
   },
   "outputs": [],
   "source": [
    "try:\n",
    "    from functools import lru_cache as cache\n",
    "except ImportError:\n",
    "    from backports.functools_lru_cache import lru_cache as cache"
   ]
  },
  {
   "cell_type": "code",
   "execution_count": 13,
   "metadata": {
    "slideshow": {
     "slide_type": "fragment"
    }
   },
   "outputs": [],
   "source": [
    "@cache(maxsize=None)\n",
    "def fib_cache(n):\n",
    "    if n<2:\n",
    "        return n\n",
    "    return fib_cache(n-1)+fib_cache(n-2)"
   ]
  },
  {
   "cell_type": "code",
   "execution_count": 14,
   "metadata": {
    "slideshow": {
     "slide_type": "fragment"
    }
   },
   "outputs": [
    {
     "name": "stdout",
     "output_type": "stream",
     "text": [
      "79.8 ns ± 3.29 ns per loop (mean ± std. dev. of 7 runs, 10,000,000 loops each)\n"
     ]
    }
   ],
   "source": [
    "%timeit fib_cache(20)"
   ]
  },
  {
   "cell_type": "markdown",
   "metadata": {
    "collapsed": true,
    "slideshow": {
     "slide_type": "subslide"
    }
   },
   "source": [
    "| function  | helper | time  | \n",
    "|---|---|---|\n",
    "| fib  | pure python | 3.26 ms |\n",
    "| fib_cython  | pure cython | 0.9 ms |\n",
    "| fib_cython_type  | c-type | 24 µs |\n",
    "| fib_cache  | pure python + cache | 120 ns |"
   ]
  },
  {
   "cell_type": "markdown",
   "metadata": {
    "slideshow": {
     "slide_type": "subslide"
    }
   },
   "source": [
    "## Iterative fib"
   ]
  },
  {
   "cell_type": "code",
   "execution_count": 15,
   "metadata": {
    "slideshow": {
     "slide_type": "subslide"
    }
   },
   "outputs": [],
   "source": [
    "def fib_seq(n):\n",
    "    if n < 2:\n",
    "        return n\n",
    "    a,b = 1,0\n",
    "    for i in range(n-1):\n",
    "        a,b = a+b,a\n",
    "    return a   "
   ]
  },
  {
   "cell_type": "code",
   "execution_count": 16,
   "metadata": {
    "slideshow": {
     "slide_type": "fragment"
    }
   },
   "outputs": [
    {
     "name": "stdout",
     "output_type": "stream",
     "text": [
      "1.08 µs ± 15.6 ns per loop (mean ± std. dev. of 7 runs, 1,000,000 loops each)\n"
     ]
    }
   ],
   "source": [
    "%timeit fib_seq(20)"
   ]
  },
  {
   "cell_type": "code",
   "execution_count": 17,
   "metadata": {
    "slideshow": {
     "slide_type": "subslide"
    }
   },
   "outputs": [],
   "source": [
    "%%cython\n",
    "\n",
    "def fib_seq_cython(n):\n",
    "    if n < 2:\n",
    "        return n\n",
    "    a,b = 1,0\n",
    "    for i in range(n-1):\n",
    "        a,b = a+b,a\n",
    "    return a    \n",
    "\n",
    "cpdef long fib_seq_cython_type(long n):\n",
    "    if n < 2:\n",
    "        return n\n",
    "    cdef long a,b\n",
    "    a,b = 1,0\n",
    "    for i in range(n-1):\n",
    "        a,b = a+b,a\n",
    "    return a"
   ]
  },
  {
   "cell_type": "code",
   "execution_count": 18,
   "metadata": {
    "slideshow": {
     "slide_type": "fragment"
    }
   },
   "outputs": [
    {
     "name": "stdout",
     "output_type": "stream",
     "text": [
      "758 ns ± 234 ns per loop (mean ± std. dev. of 7 runs, 1,000,000 loops each)\n",
      "72.2 ns ± 6.27 ns per loop (mean ± std. dev. of 7 runs, 10,000,000 loops each)\n"
     ]
    }
   ],
   "source": [
    "%timeit fib_seq_cython(20)\n",
    "%timeit fib_seq_cython_type(20)"
   ]
  },
  {
   "cell_type": "markdown",
   "metadata": {
    "slideshow": {
     "slide_type": "subslide"
    }
   },
   "source": [
    "| function  | helper | time  | \n",
    "|---|---|---|\n",
    "| fib  | pure python | 3.26 ms |\n",
    "| fib_cython  | pure cython | 0.9 ms |\n",
    "| fib_cython_type  | c-type | 24 µs |\n",
    "| fib_cache  | pure python + cache | 120 ns |\n",
    "| fib_seq  | pure python | 1.35 µs |\n",
    "| fib_seq_cython  | cython | 927 ns |\n",
    "| fib_seq_cython_type  |cython | 79.7 ns |"
   ]
  },
  {
   "cell_type": "markdown",
   "metadata": {
    "slideshow": {
     "slide_type": "slide"
    }
   },
   "source": [
    "## Compiling With Numba"
   ]
  },
  {
   "cell_type": "markdown",
   "metadata": {
    "slideshow": {
     "slide_type": "subslide"
    }
   },
   "source": [
    "![alt text](images/numba_blue_icon_rgb.png \"numba_blue_icon_rgb.\")"
   ]
  },
  {
   "cell_type": "markdown",
   "metadata": {
    "slideshow": {
     "slide_type": "fragment"
    }
   },
   "source": [
    "Let us use another tool called Numba.  It is a just in time (jit) compiler for a subset of Python.  It does not work yet on all of Python, but when it does work it can do marvels. "
   ]
  },
  {
   "cell_type": "code",
   "execution_count": 19,
   "metadata": {
    "slideshow": {
     "slide_type": "fragment"
    }
   },
   "outputs": [
    {
     "name": "stdout",
     "output_type": "stream",
     "text": [
      "Collecting numba\n",
      "  Downloading numba-0.56.4-cp310-cp310-win_amd64.whl (2.5 MB)\n",
      "     ---------------------------------------- 2.5/2.5 MB 9.3 MB/s eta 0:00:00\n",
      "Requirement already satisfied: setuptools in c:\\programdata\\anaconda3\\envs\\effectivepython\\lib\\site-packages (from numba) (65.5.0)\n",
      "Collecting numpy<1.24,>=1.18\n",
      "  Downloading numpy-1.23.5-cp310-cp310-win_amd64.whl (14.6 MB)\n",
      "     --------------------------------------- 14.6/14.6 MB 29.7 MB/s eta 0:00:00\n",
      "Collecting llvmlite<0.40,>=0.39.0dev0\n",
      "  Downloading llvmlite-0.39.1-cp310-cp310-win_amd64.whl (23.2 MB)\n",
      "     --------------------------------------- 23.2/23.2 MB 28.4 MB/s eta 0:00:00\n",
      "Installing collected packages: numpy, llvmlite, numba\n",
      "Successfully installed llvmlite-0.39.1 numba-0.56.4 numpy-1.23.5\n"
     ]
    }
   ],
   "source": [
    "!pip install numba"
   ]
  },
  {
   "cell_type": "code",
   "execution_count": 20,
   "metadata": {
    "slideshow": {
     "slide_type": "fragment"
    }
   },
   "outputs": [],
   "source": [
    "from numba import jit"
   ]
  },
  {
   "cell_type": "code",
   "execution_count": 21,
   "metadata": {
    "slideshow": {
     "slide_type": "subslide"
    }
   },
   "outputs": [],
   "source": [
    "@jit\n",
    "def fib_seq_numba(n):\n",
    "    if n < 2:\n",
    "        return n\n",
    "    a,b = 1,0\n",
    "    for i in range(n-1):\n",
    "        a,b = a+b,a\n",
    "    return a  "
   ]
  },
  {
   "cell_type": "code",
   "execution_count": 22,
   "metadata": {
    "slideshow": {
     "slide_type": "fragment"
    }
   },
   "outputs": [
    {
     "name": "stdout",
     "output_type": "stream",
     "text": [
      "The slowest run took 14.33 times longer than the fastest. This could mean that an intermediate result is being cached.\n",
      "900 ns ± 1.39 µs per loop (mean ± std. dev. of 7 runs, 1 loop each)\n"
     ]
    }
   ],
   "source": [
    "%timeit fib_seq_numba(20)"
   ]
  },
  {
   "cell_type": "markdown",
   "metadata": {
    "slideshow": {
     "slide_type": "subslide"
    }
   },
   "source": [
    "| function  | helper | time  | \n",
    "|---|---|---|\n",
    "| fib  | pure python | 3.26 ms |\n",
    "| fib_cython  | pure cython | 0.9 ms |\n",
    "| fib_cython_type  | c-type | 24 µs |\n",
    "| fib_cache  | pure python + cache | 120 ns |\n",
    "| fib_seq  | pure python | 1.35 µs |\n",
    "| fib_seq_cython  | cython | 927 ns |\n",
    "| fib_seq_cython_type  |cython | 79.7 ns |\n",
    "| fib_seq_numba  | numba | 197 ns |"
   ]
  },
  {
   "cell_type": "markdown",
   "metadata": {
    "slideshow": {
     "slide_type": "slide"
    }
   },
   "source": [
    "## Przykład II"
   ]
  },
  {
   "cell_type": "code",
   "execution_count": 23,
   "metadata": {
    "slideshow": {
     "slide_type": "subslide"
    }
   },
   "outputs": [],
   "source": [
    "import random\n",
    "def parse_int():\n",
    "    for i in range(1,1000):\n",
    "        n = random.randint(0,2**32-1)\n",
    "        s = hex(n)\n",
    "        if s[-1]=='L':\n",
    "            s = s[0:-1]\n",
    "        m = int(s,16)\n",
    "        assert m == n"
   ]
  },
  {
   "cell_type": "code",
   "execution_count": 24,
   "metadata": {},
   "outputs": [
    {
     "name": "stdout",
     "output_type": "stream",
     "text": [
      "1.59 ms ± 97 µs per loop (mean ± std. dev. of 7 runs, 1,000 loops each)\n"
     ]
    }
   ],
   "source": [
    "%timeit parse_int()"
   ]
  },
  {
   "cell_type": "code",
   "execution_count": 25,
   "metadata": {
    "slideshow": {
     "slide_type": "subslide"
    }
   },
   "outputs": [],
   "source": [
    "%%cython\n",
    "import random\n",
    "def parse_int_cython():\n",
    "    for i in range(1,1000):\n",
    "        n = random.randint(0,2**32-1)\n",
    "        s = hex(n)\n",
    "        if s[-1]=='L':\n",
    "            s = s[0:-1]\n",
    "        m = int(s,16)\n",
    "        assert m == n"
   ]
  },
  {
   "cell_type": "code",
   "execution_count": 26,
   "metadata": {
    "slideshow": {
     "slide_type": "subslide"
    }
   },
   "outputs": [],
   "source": [
    "@jit\n",
    "def parse_int_numba():\n",
    "    for i in range(1,1000):\n",
    "        n = random.randint(0,2**32-1)\n",
    "        s = hex(n)\n",
    "        if s[-1]=='L':\n",
    "            s = s[0:-1]\n",
    "        m = int(s,16)\n",
    "        assert m == n"
   ]
  },
  {
   "cell_type": "code",
   "execution_count": 27,
   "metadata": {
    "slideshow": {
     "slide_type": "subslide"
    }
   },
   "outputs": [
    {
     "name": "stdout",
     "output_type": "stream",
     "text": [
      "1.47 ms ± 54.6 µs per loop (mean ± std. dev. of 7 runs, 1,000 loops each)\n"
     ]
    },
    {
     "name": "stderr",
     "output_type": "stream",
     "text": [
      "C:\\Users\\Hyperbook\\AppData\\Local\\Temp\\ipykernel_13108\\313898860.py:1: NumbaWarning: \u001B[1m\n",
      "Compilation is falling back to object mode WITH looplifting enabled because Function \"parse_int_numba\" failed type inference due to: \u001B[1mUntyped global name 'hex':\u001B[0m \u001B[1m\u001B[1mCannot determine Numba type of <class 'builtin_function_or_method'>\u001B[0m\n",
      "\u001B[1m\n",
      "File \"C:\\Users\\Hyperbook\\AppData\\Local\\Temp\\ipykernel_13108\\313898860.py\", line 5:\u001B[0m\n",
      "\u001B[1mdef parse_int_numba():\n",
      "    <source elided>\n",
      "        n = random.randint(0,2**32-1)\n",
      "\u001B[1m        s = hex(n)\n",
      "\u001B[0m        \u001B[1m^\u001B[0m\u001B[0m\n",
      "\u001B[0m\u001B[0m\n",
      "  @jit\n"
     ]
    },
    {
     "ename": "ValueError",
     "evalue": "Failed in object mode pipeline (step: object mode frontend)\nnot enough values to unpack (expected 1, got 0)",
     "output_type": "error",
     "traceback": [
      "\u001B[1;31m---------------------------------------------------------------------------\u001B[0m",
      "\u001B[1;31mValueError\u001B[0m                                Traceback (most recent call last)",
      "Cell \u001B[1;32mIn [27], line 2\u001B[0m\n\u001B[0;32m      1\u001B[0m get_ipython()\u001B[38;5;241m.\u001B[39mrun_line_magic(\u001B[38;5;124m'\u001B[39m\u001B[38;5;124mtimeit\u001B[39m\u001B[38;5;124m'\u001B[39m, \u001B[38;5;124m'\u001B[39m\u001B[38;5;124mparse_int_cython()\u001B[39m\u001B[38;5;124m'\u001B[39m)\n\u001B[1;32m----> 2\u001B[0m \u001B[43mget_ipython\u001B[49m\u001B[43m(\u001B[49m\u001B[43m)\u001B[49m\u001B[38;5;241;43m.\u001B[39;49m\u001B[43mrun_line_magic\u001B[49m\u001B[43m(\u001B[49m\u001B[38;5;124;43m'\u001B[39;49m\u001B[38;5;124;43mtimeit\u001B[39;49m\u001B[38;5;124;43m'\u001B[39;49m\u001B[43m,\u001B[49m\u001B[43m \u001B[49m\u001B[38;5;124;43m'\u001B[39;49m\u001B[38;5;124;43mparse_int_numba()\u001B[39;49m\u001B[38;5;124;43m'\u001B[39;49m\u001B[43m)\u001B[49m\n",
      "File \u001B[1;32mC:\\ProgramData\\Anaconda3\\envs\\EffectivePython\\lib\\site-packages\\IPython\\core\\interactiveshell.py:2364\u001B[0m, in \u001B[0;36mInteractiveShell.run_line_magic\u001B[1;34m(self, magic_name, line, _stack_depth)\u001B[0m\n\u001B[0;32m   2362\u001B[0m     kwargs[\u001B[38;5;124m'\u001B[39m\u001B[38;5;124mlocal_ns\u001B[39m\u001B[38;5;124m'\u001B[39m] \u001B[38;5;241m=\u001B[39m \u001B[38;5;28mself\u001B[39m\u001B[38;5;241m.\u001B[39mget_local_scope(stack_depth)\n\u001B[0;32m   2363\u001B[0m \u001B[38;5;28;01mwith\u001B[39;00m \u001B[38;5;28mself\u001B[39m\u001B[38;5;241m.\u001B[39mbuiltin_trap:\n\u001B[1;32m-> 2364\u001B[0m     result \u001B[38;5;241m=\u001B[39m fn(\u001B[38;5;241m*\u001B[39margs, \u001B[38;5;241m*\u001B[39m\u001B[38;5;241m*\u001B[39mkwargs)\n\u001B[0;32m   2365\u001B[0m \u001B[38;5;28;01mreturn\u001B[39;00m result\n",
      "File \u001B[1;32mC:\\ProgramData\\Anaconda3\\envs\\EffectivePython\\lib\\site-packages\\IPython\\core\\magics\\execution.py:1162\u001B[0m, in \u001B[0;36mExecutionMagics.timeit\u001B[1;34m(self, line, cell, local_ns)\u001B[0m\n\u001B[0;32m   1160\u001B[0m \u001B[38;5;28;01mfor\u001B[39;00m index \u001B[38;5;129;01min\u001B[39;00m \u001B[38;5;28mrange\u001B[39m(\u001B[38;5;241m0\u001B[39m, \u001B[38;5;241m10\u001B[39m):\n\u001B[0;32m   1161\u001B[0m     number \u001B[38;5;241m=\u001B[39m \u001B[38;5;241m10\u001B[39m \u001B[38;5;241m*\u001B[39m\u001B[38;5;241m*\u001B[39m index\n\u001B[1;32m-> 1162\u001B[0m     time_number \u001B[38;5;241m=\u001B[39m \u001B[43mtimer\u001B[49m\u001B[38;5;241;43m.\u001B[39;49m\u001B[43mtimeit\u001B[49m\u001B[43m(\u001B[49m\u001B[43mnumber\u001B[49m\u001B[43m)\u001B[49m\n\u001B[0;32m   1163\u001B[0m     \u001B[38;5;28;01mif\u001B[39;00m time_number \u001B[38;5;241m>\u001B[39m\u001B[38;5;241m=\u001B[39m \u001B[38;5;241m0.2\u001B[39m:\n\u001B[0;32m   1164\u001B[0m         \u001B[38;5;28;01mbreak\u001B[39;00m\n",
      "File \u001B[1;32mC:\\ProgramData\\Anaconda3\\envs\\EffectivePython\\lib\\site-packages\\IPython\\core\\magics\\execution.py:156\u001B[0m, in \u001B[0;36mTimer.timeit\u001B[1;34m(self, number)\u001B[0m\n\u001B[0;32m    154\u001B[0m gc\u001B[38;5;241m.\u001B[39mdisable()\n\u001B[0;32m    155\u001B[0m \u001B[38;5;28;01mtry\u001B[39;00m:\n\u001B[1;32m--> 156\u001B[0m     timing \u001B[38;5;241m=\u001B[39m \u001B[38;5;28;43mself\u001B[39;49m\u001B[38;5;241;43m.\u001B[39;49m\u001B[43minner\u001B[49m\u001B[43m(\u001B[49m\u001B[43mit\u001B[49m\u001B[43m,\u001B[49m\u001B[43m \u001B[49m\u001B[38;5;28;43mself\u001B[39;49m\u001B[38;5;241;43m.\u001B[39;49m\u001B[43mtimer\u001B[49m\u001B[43m)\u001B[49m\n\u001B[0;32m    157\u001B[0m \u001B[38;5;28;01mfinally\u001B[39;00m:\n\u001B[0;32m    158\u001B[0m     \u001B[38;5;28;01mif\u001B[39;00m gcold:\n",
      "File \u001B[1;32m<magic-timeit>:1\u001B[0m, in \u001B[0;36minner\u001B[1;34m(_it, _timer)\u001B[0m\n",
      "File \u001B[1;32mC:\\ProgramData\\Anaconda3\\envs\\EffectivePython\\lib\\site-packages\\numba\\core\\dispatcher.py:487\u001B[0m, in \u001B[0;36m_DispatcherBase._compile_for_args\u001B[1;34m(self, *args, **kws)\u001B[0m\n\u001B[0;32m    485\u001B[0m             e\u001B[38;5;241m.\u001B[39mpatch_message(\u001B[38;5;124m'\u001B[39m\u001B[38;5;130;01m\\n\u001B[39;00m\u001B[38;5;124m'\u001B[39m\u001B[38;5;241m.\u001B[39mjoin((\u001B[38;5;28mstr\u001B[39m(e)\u001B[38;5;241m.\u001B[39mrstrip(), help_msg)))\n\u001B[0;32m    486\u001B[0m     \u001B[38;5;66;03m# ignore the FULL_TRACEBACKS config, this needs reporting!\u001B[39;00m\n\u001B[1;32m--> 487\u001B[0m     \u001B[38;5;28;01mraise\u001B[39;00m e\n\u001B[0;32m    488\u001B[0m \u001B[38;5;28;01mfinally\u001B[39;00m:\n\u001B[0;32m    489\u001B[0m     \u001B[38;5;28mself\u001B[39m\u001B[38;5;241m.\u001B[39m_types_active_call \u001B[38;5;241m=\u001B[39m []\n",
      "File \u001B[1;32mC:\\ProgramData\\Anaconda3\\envs\\EffectivePython\\lib\\site-packages\\numba\\core\\dispatcher.py:420\u001B[0m, in \u001B[0;36m_DispatcherBase._compile_for_args\u001B[1;34m(self, *args, **kws)\u001B[0m\n\u001B[0;32m    418\u001B[0m return_val \u001B[38;5;241m=\u001B[39m \u001B[38;5;28;01mNone\u001B[39;00m\n\u001B[0;32m    419\u001B[0m \u001B[38;5;28;01mtry\u001B[39;00m:\n\u001B[1;32m--> 420\u001B[0m     return_val \u001B[38;5;241m=\u001B[39m \u001B[38;5;28;43mself\u001B[39;49m\u001B[38;5;241;43m.\u001B[39;49m\u001B[43mcompile\u001B[49m\u001B[43m(\u001B[49m\u001B[38;5;28;43mtuple\u001B[39;49m\u001B[43m(\u001B[49m\u001B[43margtypes\u001B[49m\u001B[43m)\u001B[49m\u001B[43m)\u001B[49m\n\u001B[0;32m    421\u001B[0m \u001B[38;5;28;01mexcept\u001B[39;00m errors\u001B[38;5;241m.\u001B[39mForceLiteralArg \u001B[38;5;28;01mas\u001B[39;00m e:\n\u001B[0;32m    422\u001B[0m     \u001B[38;5;66;03m# Received request for compiler re-entry with the list of arguments\u001B[39;00m\n\u001B[0;32m    423\u001B[0m     \u001B[38;5;66;03m# indicated by e.requested_args.\u001B[39;00m\n\u001B[0;32m    424\u001B[0m     \u001B[38;5;66;03m# First, check if any of these args are already Literal-ized\u001B[39;00m\n\u001B[0;32m    425\u001B[0m     already_lit_pos \u001B[38;5;241m=\u001B[39m [i \u001B[38;5;28;01mfor\u001B[39;00m i \u001B[38;5;129;01min\u001B[39;00m e\u001B[38;5;241m.\u001B[39mrequested_args\n\u001B[0;32m    426\u001B[0m                        \u001B[38;5;28;01mif\u001B[39;00m \u001B[38;5;28misinstance\u001B[39m(args[i], types\u001B[38;5;241m.\u001B[39mLiteral)]\n",
      "File \u001B[1;32mC:\\ProgramData\\Anaconda3\\envs\\EffectivePython\\lib\\site-packages\\numba\\core\\dispatcher.py:965\u001B[0m, in \u001B[0;36mDispatcher.compile\u001B[1;34m(self, sig)\u001B[0m\n\u001B[0;32m    963\u001B[0m \u001B[38;5;28;01mwith\u001B[39;00m ev\u001B[38;5;241m.\u001B[39mtrigger_event(\u001B[38;5;124m\"\u001B[39m\u001B[38;5;124mnumba:compile\u001B[39m\u001B[38;5;124m\"\u001B[39m, data\u001B[38;5;241m=\u001B[39mev_details):\n\u001B[0;32m    964\u001B[0m     \u001B[38;5;28;01mtry\u001B[39;00m:\n\u001B[1;32m--> 965\u001B[0m         cres \u001B[38;5;241m=\u001B[39m \u001B[38;5;28;43mself\u001B[39;49m\u001B[38;5;241;43m.\u001B[39;49m\u001B[43m_compiler\u001B[49m\u001B[38;5;241;43m.\u001B[39;49m\u001B[43mcompile\u001B[49m\u001B[43m(\u001B[49m\u001B[43margs\u001B[49m\u001B[43m,\u001B[49m\u001B[43m \u001B[49m\u001B[43mreturn_type\u001B[49m\u001B[43m)\u001B[49m\n\u001B[0;32m    966\u001B[0m     \u001B[38;5;28;01mexcept\u001B[39;00m errors\u001B[38;5;241m.\u001B[39mForceLiteralArg \u001B[38;5;28;01mas\u001B[39;00m e:\n\u001B[0;32m    967\u001B[0m         \u001B[38;5;28;01mdef\u001B[39;00m \u001B[38;5;21mfolded\u001B[39m(args, kws):\n",
      "File \u001B[1;32mC:\\ProgramData\\Anaconda3\\envs\\EffectivePython\\lib\\site-packages\\numba\\core\\dispatcher.py:125\u001B[0m, in \u001B[0;36m_FunctionCompiler.compile\u001B[1;34m(self, args, return_type)\u001B[0m\n\u001B[0;32m    124\u001B[0m \u001B[38;5;28;01mdef\u001B[39;00m \u001B[38;5;21mcompile\u001B[39m(\u001B[38;5;28mself\u001B[39m, args, return_type):\n\u001B[1;32m--> 125\u001B[0m     status, retval \u001B[38;5;241m=\u001B[39m \u001B[38;5;28;43mself\u001B[39;49m\u001B[38;5;241;43m.\u001B[39;49m\u001B[43m_compile_cached\u001B[49m\u001B[43m(\u001B[49m\u001B[43margs\u001B[49m\u001B[43m,\u001B[49m\u001B[43m \u001B[49m\u001B[43mreturn_type\u001B[49m\u001B[43m)\u001B[49m\n\u001B[0;32m    126\u001B[0m     \u001B[38;5;28;01mif\u001B[39;00m status:\n\u001B[0;32m    127\u001B[0m         \u001B[38;5;28;01mreturn\u001B[39;00m retval\n",
      "File \u001B[1;32mC:\\ProgramData\\Anaconda3\\envs\\EffectivePython\\lib\\site-packages\\numba\\core\\dispatcher.py:139\u001B[0m, in \u001B[0;36m_FunctionCompiler._compile_cached\u001B[1;34m(self, args, return_type)\u001B[0m\n\u001B[0;32m    136\u001B[0m     \u001B[38;5;28;01mpass\u001B[39;00m\n\u001B[0;32m    138\u001B[0m \u001B[38;5;28;01mtry\u001B[39;00m:\n\u001B[1;32m--> 139\u001B[0m     retval \u001B[38;5;241m=\u001B[39m \u001B[38;5;28;43mself\u001B[39;49m\u001B[38;5;241;43m.\u001B[39;49m\u001B[43m_compile_core\u001B[49m\u001B[43m(\u001B[49m\u001B[43margs\u001B[49m\u001B[43m,\u001B[49m\u001B[43m \u001B[49m\u001B[43mreturn_type\u001B[49m\u001B[43m)\u001B[49m\n\u001B[0;32m    140\u001B[0m \u001B[38;5;28;01mexcept\u001B[39;00m errors\u001B[38;5;241m.\u001B[39mTypingError \u001B[38;5;28;01mas\u001B[39;00m e:\n\u001B[0;32m    141\u001B[0m     \u001B[38;5;28mself\u001B[39m\u001B[38;5;241m.\u001B[39m_failed_cache[key] \u001B[38;5;241m=\u001B[39m e\n",
      "File \u001B[1;32mC:\\ProgramData\\Anaconda3\\envs\\EffectivePython\\lib\\site-packages\\numba\\core\\dispatcher.py:152\u001B[0m, in \u001B[0;36m_FunctionCompiler._compile_core\u001B[1;34m(self, args, return_type)\u001B[0m\n\u001B[0;32m    149\u001B[0m flags \u001B[38;5;241m=\u001B[39m \u001B[38;5;28mself\u001B[39m\u001B[38;5;241m.\u001B[39m_customize_flags(flags)\n\u001B[0;32m    151\u001B[0m impl \u001B[38;5;241m=\u001B[39m \u001B[38;5;28mself\u001B[39m\u001B[38;5;241m.\u001B[39m_get_implementation(args, {})\n\u001B[1;32m--> 152\u001B[0m cres \u001B[38;5;241m=\u001B[39m \u001B[43mcompiler\u001B[49m\u001B[38;5;241;43m.\u001B[39;49m\u001B[43mcompile_extra\u001B[49m\u001B[43m(\u001B[49m\u001B[38;5;28;43mself\u001B[39;49m\u001B[38;5;241;43m.\u001B[39;49m\u001B[43mtargetdescr\u001B[49m\u001B[38;5;241;43m.\u001B[39;49m\u001B[43mtyping_context\u001B[49m\u001B[43m,\u001B[49m\n\u001B[0;32m    153\u001B[0m \u001B[43m                              \u001B[49m\u001B[38;5;28;43mself\u001B[39;49m\u001B[38;5;241;43m.\u001B[39;49m\u001B[43mtargetdescr\u001B[49m\u001B[38;5;241;43m.\u001B[39;49m\u001B[43mtarget_context\u001B[49m\u001B[43m,\u001B[49m\n\u001B[0;32m    154\u001B[0m \u001B[43m                              \u001B[49m\u001B[43mimpl\u001B[49m\u001B[43m,\u001B[49m\n\u001B[0;32m    155\u001B[0m \u001B[43m                              \u001B[49m\u001B[43margs\u001B[49m\u001B[38;5;241;43m=\u001B[39;49m\u001B[43margs\u001B[49m\u001B[43m,\u001B[49m\u001B[43m \u001B[49m\u001B[43mreturn_type\u001B[49m\u001B[38;5;241;43m=\u001B[39;49m\u001B[43mreturn_type\u001B[49m\u001B[43m,\u001B[49m\n\u001B[0;32m    156\u001B[0m \u001B[43m                              \u001B[49m\u001B[43mflags\u001B[49m\u001B[38;5;241;43m=\u001B[39;49m\u001B[43mflags\u001B[49m\u001B[43m,\u001B[49m\u001B[43m \u001B[49m\u001B[38;5;28;43mlocals\u001B[39;49m\u001B[38;5;241;43m=\u001B[39;49m\u001B[38;5;28;43mself\u001B[39;49m\u001B[38;5;241;43m.\u001B[39;49m\u001B[43mlocals\u001B[49m\u001B[43m,\u001B[49m\n\u001B[0;32m    157\u001B[0m \u001B[43m                              \u001B[49m\u001B[43mpipeline_class\u001B[49m\u001B[38;5;241;43m=\u001B[39;49m\u001B[38;5;28;43mself\u001B[39;49m\u001B[38;5;241;43m.\u001B[39;49m\u001B[43mpipeline_class\u001B[49m\u001B[43m)\u001B[49m\n\u001B[0;32m    158\u001B[0m \u001B[38;5;66;03m# Check typing error if object mode is used\u001B[39;00m\n\u001B[0;32m    159\u001B[0m \u001B[38;5;28;01mif\u001B[39;00m cres\u001B[38;5;241m.\u001B[39mtyping_error \u001B[38;5;129;01mis\u001B[39;00m \u001B[38;5;129;01mnot\u001B[39;00m \u001B[38;5;28;01mNone\u001B[39;00m \u001B[38;5;129;01mand\u001B[39;00m \u001B[38;5;129;01mnot\u001B[39;00m flags\u001B[38;5;241m.\u001B[39menable_pyobject:\n",
      "File \u001B[1;32mC:\\ProgramData\\Anaconda3\\envs\\EffectivePython\\lib\\site-packages\\numba\\core\\compiler.py:716\u001B[0m, in \u001B[0;36mcompile_extra\u001B[1;34m(typingctx, targetctx, func, args, return_type, flags, locals, library, pipeline_class)\u001B[0m\n\u001B[0;32m    692\u001B[0m \u001B[38;5;124;03m\"\"\"Compiler entry point\u001B[39;00m\n\u001B[0;32m    693\u001B[0m \n\u001B[0;32m    694\u001B[0m \u001B[38;5;124;03mParameter\u001B[39;00m\n\u001B[1;32m   (...)\u001B[0m\n\u001B[0;32m    712\u001B[0m \u001B[38;5;124;03m    compiler pipeline\u001B[39;00m\n\u001B[0;32m    713\u001B[0m \u001B[38;5;124;03m\"\"\"\u001B[39;00m\n\u001B[0;32m    714\u001B[0m pipeline \u001B[38;5;241m=\u001B[39m pipeline_class(typingctx, targetctx, library,\n\u001B[0;32m    715\u001B[0m                           args, return_type, flags, \u001B[38;5;28mlocals\u001B[39m)\n\u001B[1;32m--> 716\u001B[0m \u001B[38;5;28;01mreturn\u001B[39;00m \u001B[43mpipeline\u001B[49m\u001B[38;5;241;43m.\u001B[39;49m\u001B[43mcompile_extra\u001B[49m\u001B[43m(\u001B[49m\u001B[43mfunc\u001B[49m\u001B[43m)\u001B[49m\n",
      "File \u001B[1;32mC:\\ProgramData\\Anaconda3\\envs\\EffectivePython\\lib\\site-packages\\numba\\core\\compiler.py:452\u001B[0m, in \u001B[0;36mCompilerBase.compile_extra\u001B[1;34m(self, func)\u001B[0m\n\u001B[0;32m    450\u001B[0m \u001B[38;5;28mself\u001B[39m\u001B[38;5;241m.\u001B[39mstate\u001B[38;5;241m.\u001B[39mlifted \u001B[38;5;241m=\u001B[39m ()\n\u001B[0;32m    451\u001B[0m \u001B[38;5;28mself\u001B[39m\u001B[38;5;241m.\u001B[39mstate\u001B[38;5;241m.\u001B[39mlifted_from \u001B[38;5;241m=\u001B[39m \u001B[38;5;28;01mNone\u001B[39;00m\n\u001B[1;32m--> 452\u001B[0m \u001B[38;5;28;01mreturn\u001B[39;00m \u001B[38;5;28;43mself\u001B[39;49m\u001B[38;5;241;43m.\u001B[39;49m\u001B[43m_compile_bytecode\u001B[49m\u001B[43m(\u001B[49m\u001B[43m)\u001B[49m\n",
      "File \u001B[1;32mC:\\ProgramData\\Anaconda3\\envs\\EffectivePython\\lib\\site-packages\\numba\\core\\compiler.py:520\u001B[0m, in \u001B[0;36mCompilerBase._compile_bytecode\u001B[1;34m(self)\u001B[0m\n\u001B[0;32m    516\u001B[0m \u001B[38;5;124;03m\"\"\"\u001B[39;00m\n\u001B[0;32m    517\u001B[0m \u001B[38;5;124;03mPopulate and run pipeline for bytecode input\u001B[39;00m\n\u001B[0;32m    518\u001B[0m \u001B[38;5;124;03m\"\"\"\u001B[39;00m\n\u001B[0;32m    519\u001B[0m \u001B[38;5;28;01massert\u001B[39;00m \u001B[38;5;28mself\u001B[39m\u001B[38;5;241m.\u001B[39mstate\u001B[38;5;241m.\u001B[39mfunc_ir \u001B[38;5;129;01mis\u001B[39;00m \u001B[38;5;28;01mNone\u001B[39;00m\n\u001B[1;32m--> 520\u001B[0m \u001B[38;5;28;01mreturn\u001B[39;00m \u001B[38;5;28;43mself\u001B[39;49m\u001B[38;5;241;43m.\u001B[39;49m\u001B[43m_compile_core\u001B[49m\u001B[43m(\u001B[49m\u001B[43m)\u001B[49m\n",
      "File \u001B[1;32mC:\\ProgramData\\Anaconda3\\envs\\EffectivePython\\lib\\site-packages\\numba\\core\\compiler.py:499\u001B[0m, in \u001B[0;36mCompilerBase._compile_core\u001B[1;34m(self)\u001B[0m\n\u001B[0;32m    497\u001B[0m         \u001B[38;5;28mself\u001B[39m\u001B[38;5;241m.\u001B[39mstate\u001B[38;5;241m.\u001B[39mstatus\u001B[38;5;241m.\u001B[39mfail_reason \u001B[38;5;241m=\u001B[39m e\n\u001B[0;32m    498\u001B[0m         \u001B[38;5;28;01mif\u001B[39;00m is_final_pipeline:\n\u001B[1;32m--> 499\u001B[0m             \u001B[38;5;28;01mraise\u001B[39;00m e\n\u001B[0;32m    500\u001B[0m \u001B[38;5;28;01melse\u001B[39;00m:\n\u001B[0;32m    501\u001B[0m     \u001B[38;5;28;01mraise\u001B[39;00m CompilerError(\u001B[38;5;124m\"\u001B[39m\u001B[38;5;124mAll available pipelines exhausted\u001B[39m\u001B[38;5;124m\"\u001B[39m)\n",
      "File \u001B[1;32mC:\\ProgramData\\Anaconda3\\envs\\EffectivePython\\lib\\site-packages\\numba\\core\\compiler.py:486\u001B[0m, in \u001B[0;36mCompilerBase._compile_core\u001B[1;34m(self)\u001B[0m\n\u001B[0;32m    484\u001B[0m res \u001B[38;5;241m=\u001B[39m \u001B[38;5;28;01mNone\u001B[39;00m\n\u001B[0;32m    485\u001B[0m \u001B[38;5;28;01mtry\u001B[39;00m:\n\u001B[1;32m--> 486\u001B[0m     \u001B[43mpm\u001B[49m\u001B[38;5;241;43m.\u001B[39;49m\u001B[43mrun\u001B[49m\u001B[43m(\u001B[49m\u001B[38;5;28;43mself\u001B[39;49m\u001B[38;5;241;43m.\u001B[39;49m\u001B[43mstate\u001B[49m\u001B[43m)\u001B[49m\n\u001B[0;32m    487\u001B[0m     \u001B[38;5;28;01mif\u001B[39;00m \u001B[38;5;28mself\u001B[39m\u001B[38;5;241m.\u001B[39mstate\u001B[38;5;241m.\u001B[39mcr \u001B[38;5;129;01mis\u001B[39;00m \u001B[38;5;129;01mnot\u001B[39;00m \u001B[38;5;28;01mNone\u001B[39;00m:\n\u001B[0;32m    488\u001B[0m         \u001B[38;5;28;01mbreak\u001B[39;00m\n",
      "File \u001B[1;32mC:\\ProgramData\\Anaconda3\\envs\\EffectivePython\\lib\\site-packages\\numba\\core\\compiler_machinery.py:368\u001B[0m, in \u001B[0;36mPassManager.run\u001B[1;34m(self, state)\u001B[0m\n\u001B[0;32m    365\u001B[0m msg \u001B[38;5;241m=\u001B[39m \u001B[38;5;124m\"\u001B[39m\u001B[38;5;124mFailed in \u001B[39m\u001B[38;5;132;01m%s\u001B[39;00m\u001B[38;5;124m mode pipeline (step: \u001B[39m\u001B[38;5;132;01m%s\u001B[39;00m\u001B[38;5;124m)\u001B[39m\u001B[38;5;124m\"\u001B[39m \u001B[38;5;241m%\u001B[39m \\\n\u001B[0;32m    366\u001B[0m     (\u001B[38;5;28mself\u001B[39m\u001B[38;5;241m.\u001B[39mpipeline_name, pass_desc)\n\u001B[0;32m    367\u001B[0m patched_exception \u001B[38;5;241m=\u001B[39m \u001B[38;5;28mself\u001B[39m\u001B[38;5;241m.\u001B[39m_patch_error(msg, e)\n\u001B[1;32m--> 368\u001B[0m \u001B[38;5;28;01mraise\u001B[39;00m patched_exception\n",
      "File \u001B[1;32mC:\\ProgramData\\Anaconda3\\envs\\EffectivePython\\lib\\site-packages\\numba\\core\\compiler_machinery.py:356\u001B[0m, in \u001B[0;36mPassManager.run\u001B[1;34m(self, state)\u001B[0m\n\u001B[0;32m    354\u001B[0m pass_inst \u001B[38;5;241m=\u001B[39m _pass_registry\u001B[38;5;241m.\u001B[39mget(pss)\u001B[38;5;241m.\u001B[39mpass_inst\n\u001B[0;32m    355\u001B[0m \u001B[38;5;28;01mif\u001B[39;00m \u001B[38;5;28misinstance\u001B[39m(pass_inst, CompilerPass):\n\u001B[1;32m--> 356\u001B[0m     \u001B[38;5;28;43mself\u001B[39;49m\u001B[38;5;241;43m.\u001B[39;49m\u001B[43m_runPass\u001B[49m\u001B[43m(\u001B[49m\u001B[43midx\u001B[49m\u001B[43m,\u001B[49m\u001B[43m \u001B[49m\u001B[43mpass_inst\u001B[49m\u001B[43m,\u001B[49m\u001B[43m \u001B[49m\u001B[43mstate\u001B[49m\u001B[43m)\u001B[49m\n\u001B[0;32m    357\u001B[0m \u001B[38;5;28;01melse\u001B[39;00m:\n\u001B[0;32m    358\u001B[0m     \u001B[38;5;28;01mraise\u001B[39;00m \u001B[38;5;167;01mBaseException\u001B[39;00m(\u001B[38;5;124m\"\u001B[39m\u001B[38;5;124mLegacy pass in use\u001B[39m\u001B[38;5;124m\"\u001B[39m)\n",
      "File \u001B[1;32mC:\\ProgramData\\Anaconda3\\envs\\EffectivePython\\lib\\site-packages\\numba\\core\\compiler_lock.py:35\u001B[0m, in \u001B[0;36m_CompilerLock.__call__.<locals>._acquire_compile_lock\u001B[1;34m(*args, **kwargs)\u001B[0m\n\u001B[0;32m     32\u001B[0m \u001B[38;5;129m@functools\u001B[39m\u001B[38;5;241m.\u001B[39mwraps(func)\n\u001B[0;32m     33\u001B[0m \u001B[38;5;28;01mdef\u001B[39;00m \u001B[38;5;21m_acquire_compile_lock\u001B[39m(\u001B[38;5;241m*\u001B[39margs, \u001B[38;5;241m*\u001B[39m\u001B[38;5;241m*\u001B[39mkwargs):\n\u001B[0;32m     34\u001B[0m     \u001B[38;5;28;01mwith\u001B[39;00m \u001B[38;5;28mself\u001B[39m:\n\u001B[1;32m---> 35\u001B[0m         \u001B[38;5;28;01mreturn\u001B[39;00m func(\u001B[38;5;241m*\u001B[39margs, \u001B[38;5;241m*\u001B[39m\u001B[38;5;241m*\u001B[39mkwargs)\n",
      "File \u001B[1;32mC:\\ProgramData\\Anaconda3\\envs\\EffectivePython\\lib\\site-packages\\numba\\core\\compiler_machinery.py:311\u001B[0m, in \u001B[0;36mPassManager._runPass\u001B[1;34m(self, index, pss, internal_state)\u001B[0m\n\u001B[0;32m    309\u001B[0m     mutated \u001B[38;5;241m|\u001B[39m\u001B[38;5;241m=\u001B[39m check(pss\u001B[38;5;241m.\u001B[39mrun_initialization, internal_state)\n\u001B[0;32m    310\u001B[0m \u001B[38;5;28;01mwith\u001B[39;00m SimpleTimer() \u001B[38;5;28;01mas\u001B[39;00m pass_time:\n\u001B[1;32m--> 311\u001B[0m     mutated \u001B[38;5;241m|\u001B[39m\u001B[38;5;241m=\u001B[39m \u001B[43mcheck\u001B[49m\u001B[43m(\u001B[49m\u001B[43mpss\u001B[49m\u001B[38;5;241;43m.\u001B[39;49m\u001B[43mrun_pass\u001B[49m\u001B[43m,\u001B[49m\u001B[43m \u001B[49m\u001B[43minternal_state\u001B[49m\u001B[43m)\u001B[49m\n\u001B[0;32m    312\u001B[0m \u001B[38;5;28;01mwith\u001B[39;00m SimpleTimer() \u001B[38;5;28;01mas\u001B[39;00m finalize_time:\n\u001B[0;32m    313\u001B[0m     mutated \u001B[38;5;241m|\u001B[39m\u001B[38;5;241m=\u001B[39m check(pss\u001B[38;5;241m.\u001B[39mrun_finalizer, internal_state)\n",
      "File \u001B[1;32mC:\\ProgramData\\Anaconda3\\envs\\EffectivePython\\lib\\site-packages\\numba\\core\\compiler_machinery.py:273\u001B[0m, in \u001B[0;36mPassManager._runPass.<locals>.check\u001B[1;34m(func, compiler_state)\u001B[0m\n\u001B[0;32m    272\u001B[0m \u001B[38;5;28;01mdef\u001B[39;00m \u001B[38;5;21mcheck\u001B[39m(func, compiler_state):\n\u001B[1;32m--> 273\u001B[0m     mangled \u001B[38;5;241m=\u001B[39m \u001B[43mfunc\u001B[49m\u001B[43m(\u001B[49m\u001B[43mcompiler_state\u001B[49m\u001B[43m)\u001B[49m\n\u001B[0;32m    274\u001B[0m     \u001B[38;5;28;01mif\u001B[39;00m mangled \u001B[38;5;129;01mnot\u001B[39;00m \u001B[38;5;129;01min\u001B[39;00m (\u001B[38;5;28;01mTrue\u001B[39;00m, \u001B[38;5;28;01mFalse\u001B[39;00m):\n\u001B[0;32m    275\u001B[0m         msg \u001B[38;5;241m=\u001B[39m (\u001B[38;5;124m\"\u001B[39m\u001B[38;5;124mCompilerPass implementations should return True/False. \u001B[39m\u001B[38;5;124m\"\u001B[39m\n\u001B[0;32m    276\u001B[0m                \u001B[38;5;124m\"\u001B[39m\u001B[38;5;124mCompilerPass with name \u001B[39m\u001B[38;5;124m'\u001B[39m\u001B[38;5;132;01m%s\u001B[39;00m\u001B[38;5;124m'\u001B[39m\u001B[38;5;124m did not.\u001B[39m\u001B[38;5;124m\"\u001B[39m)\n",
      "File \u001B[1;32mC:\\ProgramData\\Anaconda3\\envs\\EffectivePython\\lib\\site-packages\\numba\\core\\object_mode_passes.py:53\u001B[0m, in \u001B[0;36mObjectModeFrontEnd.run_pass\u001B[1;34m(self, state)\u001B[0m\n\u001B[0;32m     51\u001B[0m \u001B[38;5;28;01mif\u001B[39;00m state\u001B[38;5;241m.\u001B[39mflags\u001B[38;5;241m.\u001B[39menable_looplift:\n\u001B[0;32m     52\u001B[0m     \u001B[38;5;28;01massert\u001B[39;00m \u001B[38;5;129;01mnot\u001B[39;00m state\u001B[38;5;241m.\u001B[39mlifted\n\u001B[1;32m---> 53\u001B[0m     cres \u001B[38;5;241m=\u001B[39m \u001B[38;5;28;43mself\u001B[39;49m\u001B[38;5;241;43m.\u001B[39;49m\u001B[43m_frontend_looplift\u001B[49m\u001B[43m(\u001B[49m\u001B[43mstate\u001B[49m\u001B[43m)\u001B[49m\n\u001B[0;32m     54\u001B[0m     \u001B[38;5;28;01mif\u001B[39;00m cres \u001B[38;5;129;01mis\u001B[39;00m \u001B[38;5;129;01mnot\u001B[39;00m \u001B[38;5;28;01mNone\u001B[39;00m:\n\u001B[0;32m     55\u001B[0m         \u001B[38;5;28;01mraise\u001B[39;00m _EarlyPipelineCompletion(cres)\n",
      "File \u001B[1;32mC:\\ProgramData\\Anaconda3\\envs\\EffectivePython\\lib\\site-packages\\numba\\core\\object_mode_passes.py:29\u001B[0m, in \u001B[0;36mObjectModeFrontEnd._frontend_looplift\u001B[1;34m(self, state)\u001B[0m\n\u001B[0;32m     26\u001B[0m     loop_flags\u001B[38;5;241m.\u001B[39menable_pyobject \u001B[38;5;241m=\u001B[39m \u001B[38;5;28;01mFalse\u001B[39;00m\n\u001B[0;32m     27\u001B[0m loop_flags\u001B[38;5;241m.\u001B[39menable_ssa \u001B[38;5;241m=\u001B[39m \u001B[38;5;28;01mFalse\u001B[39;00m\n\u001B[1;32m---> 29\u001B[0m main, loops \u001B[38;5;241m=\u001B[39m \u001B[43mtransforms\u001B[49m\u001B[38;5;241;43m.\u001B[39;49m\u001B[43mloop_lifting\u001B[49m\u001B[43m(\u001B[49m\u001B[43mstate\u001B[49m\u001B[38;5;241;43m.\u001B[39;49m\u001B[43mfunc_ir\u001B[49m\u001B[43m,\u001B[49m\n\u001B[0;32m     30\u001B[0m \u001B[43m                                      \u001B[49m\u001B[43mtypingctx\u001B[49m\u001B[38;5;241;43m=\u001B[39;49m\u001B[43mstate\u001B[49m\u001B[38;5;241;43m.\u001B[39;49m\u001B[43mtypingctx\u001B[49m\u001B[43m,\u001B[49m\n\u001B[0;32m     31\u001B[0m \u001B[43m                                      \u001B[49m\u001B[43mtargetctx\u001B[49m\u001B[38;5;241;43m=\u001B[39;49m\u001B[43mstate\u001B[49m\u001B[38;5;241;43m.\u001B[39;49m\u001B[43mtargetctx\u001B[49m\u001B[43m,\u001B[49m\n\u001B[0;32m     32\u001B[0m \u001B[43m                                      \u001B[49m\u001B[38;5;28;43mlocals\u001B[39;49m\u001B[38;5;241;43m=\u001B[39;49m\u001B[43mstate\u001B[49m\u001B[38;5;241;43m.\u001B[39;49m\u001B[43mlocals\u001B[49m\u001B[43m,\u001B[49m\n\u001B[0;32m     33\u001B[0m \u001B[43m                                      \u001B[49m\u001B[43mflags\u001B[49m\u001B[38;5;241;43m=\u001B[39;49m\u001B[43mloop_flags\u001B[49m\u001B[43m)\u001B[49m\n\u001B[0;32m     34\u001B[0m \u001B[38;5;28;01mif\u001B[39;00m loops:\n\u001B[0;32m     35\u001B[0m     \u001B[38;5;66;03m# Some loops were extracted\u001B[39;00m\n\u001B[0;32m     36\u001B[0m     \u001B[38;5;28;01mif\u001B[39;00m config\u001B[38;5;241m.\u001B[39mDEBUG_FRONTEND \u001B[38;5;129;01mor\u001B[39;00m config\u001B[38;5;241m.\u001B[39mDEBUG:\n",
      "File \u001B[1;32mC:\\ProgramData\\Anaconda3\\envs\\EffectivePython\\lib\\site-packages\\numba\\core\\transforms.py:263\u001B[0m, in \u001B[0;36mloop_lifting\u001B[1;34m(func_ir, typingctx, targetctx, flags, locals)\u001B[0m\n\u001B[0;32m    256\u001B[0m \u001B[38;5;28;01mdef\u001B[39;00m \u001B[38;5;21mloop_lifting\u001B[39m(func_ir, typingctx, targetctx, flags, \u001B[38;5;28mlocals\u001B[39m):\n\u001B[0;32m    257\u001B[0m     \u001B[38;5;124;03m\"\"\"\u001B[39;00m\n\u001B[0;32m    258\u001B[0m \u001B[38;5;124;03m    Loop lifting transformation.\u001B[39;00m\n\u001B[0;32m    259\u001B[0m \n\u001B[0;32m    260\u001B[0m \u001B[38;5;124;03m    Given a interpreter `func_ir` returns a 2 tuple of\u001B[39;00m\n\u001B[0;32m    261\u001B[0m \u001B[38;5;124;03m    `(toplevel_interp, [loop0_interp, loop1_interp, ....])`\u001B[39;00m\n\u001B[0;32m    262\u001B[0m \u001B[38;5;124;03m    \"\"\"\u001B[39;00m\n\u001B[1;32m--> 263\u001B[0m     func_ir \u001B[38;5;241m=\u001B[39m \u001B[43m_pre_looplift_transform\u001B[49m\u001B[43m(\u001B[49m\u001B[43mfunc_ir\u001B[49m\u001B[43m)\u001B[49m\n\u001B[0;32m    264\u001B[0m     blocks \u001B[38;5;241m=\u001B[39m func_ir\u001B[38;5;241m.\u001B[39mblocks\u001B[38;5;241m.\u001B[39mcopy()\n\u001B[0;32m    265\u001B[0m     cfg \u001B[38;5;241m=\u001B[39m compute_cfg_from_blocks(blocks)\n",
      "File \u001B[1;32mC:\\ProgramData\\Anaconda3\\envs\\EffectivePython\\lib\\site-packages\\numba\\core\\transforms.py:247\u001B[0m, in \u001B[0;36m_pre_looplift_transform\u001B[1;34m(func_ir)\u001B[0m\n\u001B[0;32m    245\u001B[0m \u001B[38;5;28;01mfor\u001B[39;00m loop_info \u001B[38;5;129;01min\u001B[39;00m cfg\u001B[38;5;241m.\u001B[39mloops()\u001B[38;5;241m.\u001B[39mvalues():\n\u001B[0;32m    246\u001B[0m     \u001B[38;5;28;01mif\u001B[39;00m _has_multiple_loop_exits(cfg, loop_info):\n\u001B[1;32m--> 247\u001B[0m         func_ir, _common_key \u001B[38;5;241m=\u001B[39m \u001B[43m_fix_multi_exit_blocks\u001B[49m\u001B[43m(\u001B[49m\n\u001B[0;32m    248\u001B[0m \u001B[43m            \u001B[49m\u001B[43mfunc_ir\u001B[49m\u001B[43m,\u001B[49m\u001B[43m \u001B[49m\u001B[43mloop_info\u001B[49m\u001B[38;5;241;43m.\u001B[39;49m\u001B[43mexits\u001B[49m\n\u001B[0;32m    249\u001B[0m \u001B[43m        \u001B[49m\u001B[43m)\u001B[49m\n\u001B[0;32m    250\u001B[0m \u001B[38;5;66;03m# Reset and reprocess the func_ir\u001B[39;00m\n\u001B[0;32m    251\u001B[0m func_ir\u001B[38;5;241m.\u001B[39m_reset_analysis_variables()\n",
      "File \u001B[1;32mC:\\ProgramData\\Anaconda3\\envs\\EffectivePython\\lib\\site-packages\\numba\\core\\transforms.py:908\u001B[0m, in \u001B[0;36m_fix_multi_exit_blocks\u001B[1;34m(func_ir, exit_nodes, split_condition)\u001B[0m\n\u001B[0;32m    896\u001B[0m switch_block\u001B[38;5;241m.\u001B[39mbody\u001B[38;5;241m.\u001B[39mappend(\n\u001B[0;32m    897\u001B[0m     ir\u001B[38;5;241m.\u001B[39mAssign(\n\u001B[0;32m    898\u001B[0m         value\u001B[38;5;241m=\u001B[39mir\u001B[38;5;241m.\u001B[39mExpr\u001B[38;5;241m.\u001B[39mbinop(\n\u001B[1;32m   (...)\u001B[0m\n\u001B[0;32m    904\u001B[0m     ),\n\u001B[0;32m    905\u001B[0m )\n\u001B[0;32m    907\u001B[0m \u001B[38;5;66;03m# Insert jump to the next case\u001B[39;00m\n\u001B[1;32m--> 908\u001B[0m [jump_target] \u001B[38;5;241m=\u001B[39m remain[\u001B[38;5;241m-\u001B[39m\u001B[38;5;241m1\u001B[39m]\u001B[38;5;241m.\u001B[39mget_targets()\n\u001B[0;32m    909\u001B[0m switch_block\u001B[38;5;241m.\u001B[39mbody\u001B[38;5;241m.\u001B[39mappend(\n\u001B[0;32m    910\u001B[0m     ir\u001B[38;5;241m.\u001B[39mBranch(match_expr, jump_target, remain_blocks[i], loc\u001B[38;5;241m=\u001B[39mloc),\n\u001B[0;32m    911\u001B[0m )\n\u001B[0;32m    912\u001B[0m switch_block \u001B[38;5;241m=\u001B[39m ir\u001B[38;5;241m.\u001B[39mBlock(scope\u001B[38;5;241m=\u001B[39mscope, loc\u001B[38;5;241m=\u001B[39mloc)\n",
      "\u001B[1;31mValueError\u001B[0m: Failed in object mode pipeline (step: object mode frontend)\nnot enough values to unpack (expected 1, got 0)"
     ]
    }
   ],
   "source": [
    "%timeit parse_int_cython()\n",
    "%timeit parse_int_numba()"
   ]
  },
  {
   "cell_type": "markdown",
   "metadata": {
    "slideshow": {
     "slide_type": "fragment"
    }
   },
   "source": [
    "### ... did not work :("
   ]
  },
  {
   "cell_type": "markdown",
   "metadata": {
    "slideshow": {
     "slide_type": "slide"
    }
   },
   "source": [
    "#### We can use profiler to egzamine the code"
   ]
  },
  {
   "cell_type": "code",
   "execution_count": null,
   "metadata": {
    "slideshow": {
     "slide_type": "fragment"
    }
   },
   "outputs": [],
   "source": [
    "#!pip install line_profiler\n",
    "!pip install line_profiler-3.0.2-cp37-cp37m-win_amd64.whl"
   ]
  },
  {
   "cell_type": "code",
   "execution_count": null,
   "metadata": {
    "slideshow": {
     "slide_type": "subslide"
    }
   },
   "outputs": [],
   "source": [
    "%load_ext line_profiler"
   ]
  },
  {
   "cell_type": "code",
   "execution_count": null,
   "metadata": {
    "slideshow": {
     "slide_type": "fragment"
    }
   },
   "outputs": [],
   "source": [
    "%lprun -s -f parse_int parse_int()"
   ]
  },
  {
   "cell_type": "markdown",
   "metadata": {
    "slideshow": {
     "slide_type": "fragment"
    }
   },
   "source": [
    "We see that most of the time is in generating the random numbers.  This was the intent of the benchmark..."
   ]
  },
  {
   "cell_type": "markdown",
   "metadata": {
    "slideshow": {
     "slide_type": "subslide"
    }
   },
   "source": [
    "## ... numpy?"
   ]
  },
  {
   "cell_type": "code",
   "execution_count": null,
   "metadata": {
    "slideshow": {
     "slide_type": "fragment"
    }
   },
   "outputs": [],
   "source": [
    "import numpy as np\n",
    "def parse_int1_numpy():\n",
    "    for i in range(1,1000):\n",
    "        n = np.random.randint(0,2**31-1)\n",
    "        s = hex(n)\n",
    "        m = int(s,16)\n",
    "        assert m == n"
   ]
  },
  {
   "cell_type": "code",
   "execution_count": null,
   "metadata": {
    "slideshow": {
     "slide_type": "fragment"
    }
   },
   "outputs": [],
   "source": [
    "%timeit parse_int1_numpy()"
   ]
  },
  {
   "cell_type": "code",
   "execution_count": null,
   "metadata": {
    "slideshow": {
     "slide_type": "subslide"
    }
   },
   "outputs": [],
   "source": [
    "%%cython\n",
    "import numpy as np\n",
    "cimport cython\n",
    "\n",
    "@cython.boundscheck(False)\n",
    "# If set to False, Cython is free to assume that indexing operations ([]-operator) \n",
    "# in the code will not cause any IndexErrors to be raised.\n",
    "@cython.wraparound(False)\n",
    "# In Python arrays can be indexed relative to the end. For example A[-1] indexes \n",
    "# the last value of a list. In C negative indexing is not supported. If set to False, \n",
    "# Cython will not ensure that python indexing is not used.\n",
    "\n",
    "cpdef parse_int_cython_numpy():\n",
    "    cdef:\n",
    "        int i,n,m\n",
    "    for i in range(1,1000):\n",
    "        n = np.random.randint(0,2**31-1)\n",
    "        m = int(hex(n),16)\n",
    "        assert m == n"
   ]
  },
  {
   "cell_type": "markdown",
   "metadata": {
    "slideshow": {
     "slide_type": "fragment"
    }
   },
   "source": [
    "https://github.com/cython/cython/wiki/enhancements-compilerdirectives"
   ]
  },
  {
   "cell_type": "code",
   "execution_count": null,
   "metadata": {
    "slideshow": {
     "slide_type": "fragment"
    }
   },
   "outputs": [],
   "source": [
    "%timeit parse_int_cython_numpy()"
   ]
  },
  {
   "cell_type": "markdown",
   "metadata": {
    "slideshow": {
     "slide_type": "subslide"
    }
   },
   "source": [
    "### ... maybe the order of oparations?"
   ]
  },
  {
   "cell_type": "code",
   "execution_count": null,
   "metadata": {
    "slideshow": {
     "slide_type": "fragment"
    }
   },
   "outputs": [],
   "source": [
    "def parse_int_vec():\n",
    "    n = np.random.randint(2^31-1,size=1000)\n",
    "    for i in range(1,1000):\n",
    "        ni = n[i]\n",
    "        s = hex(ni)\n",
    "        if s[-1]=='L':\n",
    "            s = s[0:-1]\n",
    "        m = int(s,16)\n",
    "        assert m == ni"
   ]
  },
  {
   "cell_type": "code",
   "execution_count": null,
   "metadata": {},
   "outputs": [],
   "source": [
    "%lprun -s -f parse_int_vec parse_int_vec()"
   ]
  },
  {
   "cell_type": "code",
   "execution_count": null,
   "metadata": {},
   "outputs": [],
   "source": [
    "n = np.random.randint(2^31-1,size=1000)"
   ]
  },
  {
   "cell_type": "code",
   "execution_count": null,
   "metadata": {
    "slideshow": {
     "slide_type": "fragment"
    }
   },
   "outputs": [],
   "source": [
    "%timeit parse_int_vec()"
   ]
  },
  {
   "cell_type": "markdown",
   "metadata": {
    "slideshow": {
     "slide_type": "subslide"
    }
   },
   "source": [
    "### ... numpy once again"
   ]
  },
  {
   "cell_type": "code",
   "execution_count": null,
   "metadata": {
    "slideshow": {
     "slide_type": "fragment"
    }
   },
   "outputs": [],
   "source": [
    "vhex = np.vectorize(hex)\n",
    "vint = np.vectorize(int)\n",
    "\n",
    "def parse_int_numpy():\n",
    "    n = np.random.randint(0,2**31-1,1000)\n",
    "    s = vhex(n)\n",
    "    m = vint(s,16)\n",
    "    np.all(m == n)\n",
    "    return s"
   ]
  },
  {
   "cell_type": "code",
   "execution_count": null,
   "metadata": {
    "slideshow": {
     "slide_type": "fragment"
    }
   },
   "outputs": [],
   "source": [
    "%timeit parse_int_numpy()"
   ]
  },
  {
   "cell_type": "markdown",
   "metadata": {
    "slideshow": {
     "slide_type": "subslide"
    }
   },
   "source": [
    "### ... and the winner is ..."
   ]
  },
  {
   "cell_type": "code",
   "execution_count": null,
   "metadata": {
    "slideshow": {
     "slide_type": "fragment"
    }
   },
   "outputs": [],
   "source": [
    "%%cython\n",
    "import numpy as np\n",
    "import cython\n",
    "\n",
    "@cython.boundscheck(False)\n",
    "@cython.wraparound(False)\n",
    "cpdef parse_int_vec_cython():\n",
    "    cdef:\n",
    "        int i,m\n",
    "        int[:] n\n",
    "    n = np.random.randint(0,2**31-1,1000)\n",
    "    for i in range(1,1000):\n",
    "        m = int(hex(n[i]),16)\n",
    "        assert m == n[i]"
   ]
  },
  {
   "cell_type": "code",
   "execution_count": null,
   "metadata": {
    "slideshow": {
     "slide_type": "fragment"
    }
   },
   "outputs": [],
   "source": [
    "%timeit parse_int_vec_cython()"
   ]
  },
  {
   "cell_type": "markdown",
   "metadata": {
    "slideshow": {
     "slide_type": "slide"
    }
   },
   "source": [
    "## Przykład III"
   ]
  },
  {
   "cell_type": "code",
   "execution_count": null,
   "metadata": {
    "slideshow": {
     "slide_type": "subslide"
    }
   },
   "outputs": [],
   "source": [
    "import numpy as np\n",
    "A = np.random.randint(5, size=(100, 100), dtype=np.uint8)\n",
    "B = np.random.randint(5, size=(100, 100), dtype=np.uint8)"
   ]
  },
  {
   "cell_type": "code",
   "execution_count": null,
   "metadata": {
    "slideshow": {
     "slide_type": "subslide"
    }
   },
   "outputs": [],
   "source": [
    "import numpy as np\n",
    "\n",
    "def my_add(a, b):\n",
    "    dtype = a.dtype\n",
    "    height = a.shape[0]\n",
    "    width = a.shape[1]\n",
    "\n",
    "    result = np.zeros((height, width), dtype=dtype)\n",
    "\n",
    "    for y in range(height):\n",
    "        for x in range(width):\n",
    "            result[y,x] = a[y,x] + b[y,x]\n",
    "\n",
    "    return result"
   ]
  },
  {
   "cell_type": "code",
   "execution_count": null,
   "metadata": {
    "slideshow": {
     "slide_type": "fragment"
    }
   },
   "outputs": [],
   "source": [
    "%timeit my_add(A,B)"
   ]
  },
  {
   "cell_type": "code",
   "execution_count": null,
   "metadata": {
    "slideshow": {
     "slide_type": "subslide"
    }
   },
   "outputs": [],
   "source": [
    "%%cython\n",
    "import numpy as np\n",
    "\n",
    "def my_add_cython(a, b):\n",
    "    dtype = a.dtype\n",
    "    height = a.shape[0]\n",
    "    width = a.shape[1]\n",
    "\n",
    "    result = np.zeros((height, width), dtype=dtype)\n",
    "\n",
    "    for y in range(height):\n",
    "        for x in range(width):\n",
    "            result[y,x] = a[y,x] + b[y,x]\n",
    "\n",
    "    return result"
   ]
  },
  {
   "cell_type": "code",
   "execution_count": null,
   "metadata": {
    "slideshow": {
     "slide_type": "fragment"
    }
   },
   "outputs": [],
   "source": [
    "%timeit my_add_cython(A,B)"
   ]
  },
  {
   "cell_type": "code",
   "execution_count": null,
   "metadata": {
    "slideshow": {
     "slide_type": "subslide"
    }
   },
   "outputs": [],
   "source": [
    "%%cython\n",
    "import numpy as np\n",
    "cimport numpy as np\n",
    "\n",
    "DTYPE = np.uint8\n",
    "\n",
    "def my_add_cython_with_types(np.ndarray a, np.ndarray b):\n",
    "    \n",
    "    cdef int height = a.shape[0]\n",
    "    cdef int width = a.shape[1]\n",
    "\n",
    "    cdef np.ndarray result = np.zeros((height, width), dtype=DTYPE)\n",
    "    \n",
    "    cdef int x, y\n",
    "    for y in range(height):\n",
    "        for x in range(width):\n",
    "            result[y,x] = a[y,x] + b[y,x]\n",
    "\n",
    "    return result"
   ]
  },
  {
   "cell_type": "code",
   "execution_count": null,
   "metadata": {
    "slideshow": {
     "slide_type": "fragment"
    }
   },
   "outputs": [],
   "source": [
    "%timeit my_add_cython_with_types(A,B)"
   ]
  },
  {
   "cell_type": "code",
   "execution_count": null,
   "metadata": {
    "slideshow": {
     "slide_type": "subslide"
    }
   },
   "outputs": [],
   "source": [
    "%%cython\n",
    "import numpy as np\n",
    "cimport numpy as np\n",
    "\n",
    "DTYPE = np.uint8\n",
    "ctypedef np.uint8_t DTYPE_t\n",
    "\n",
    "def my_add_cython_with_types_2(np.ndarray[DTYPE_t,ndim=2] a, np.ndarray[DTYPE_t,ndim=2] b):\n",
    "    \n",
    "    cdef int height = a.shape[0]\n",
    "    cdef int width = a.shape[1]\n",
    "\n",
    "    cdef np.ndarray[DTYPE_t, ndim=2] result = np.zeros((height, width), dtype=DTYPE)\n",
    "    \n",
    "    cdef int x, y\n",
    "    for y in range(height):\n",
    "        for x in range(width):\n",
    "            result[y,x] = a[y,x] + b[y,x]\n",
    "\n",
    "    return result"
   ]
  },
  {
   "cell_type": "code",
   "execution_count": null,
   "metadata": {
    "slideshow": {
     "slide_type": "fragment"
    }
   },
   "outputs": [],
   "source": [
    "%timeit my_add_cython_with_types_2(A,B)"
   ]
  },
  {
   "cell_type": "code",
   "execution_count": null,
   "metadata": {
    "slideshow": {
     "slide_type": "slide"
    }
   },
   "outputs": [],
   "source": [
    "from numba.decorators import jit\n",
    "import numpy as np\n",
    "\n",
    "@jit('uint8[:,:](uint8[:,:], uint8[:,:])')\n",
    "def my_add_numba(a, b):\n",
    "    dtype = a.dtype\n",
    "    height = a.shape[0]\n",
    "    width = a.shape[1]\n",
    "\n",
    "    result = np.zeros((height, width), dtype=dtype)\n",
    "\n",
    "    for y in range(height):\n",
    "        for x in range(width):\n",
    "            result[y,x] = a[y,x] + b[y,x]\n",
    "\n",
    "    return result"
   ]
  },
  {
   "cell_type": "code",
   "execution_count": null,
   "metadata": {
    "slideshow": {
     "slide_type": "subslide"
    }
   },
   "outputs": [],
   "source": [
    "%timeit my_add_numba(A,B)"
   ]
  },
  {
   "cell_type": "markdown",
   "metadata": {
    "slideshow": {
     "slide_type": "subslide"
    }
   },
   "source": [
    "## ... but the winner is ..."
   ]
  },
  {
   "cell_type": "code",
   "execution_count": null,
   "metadata": {
    "slideshow": {
     "slide_type": "subslide"
    }
   },
   "outputs": [],
   "source": [
    "def my_add_numpy(a, b):\n",
    "    return a+b"
   ]
  },
  {
   "cell_type": "code",
   "execution_count": null,
   "metadata": {
    "slideshow": {
     "slide_type": "fragment"
    }
   },
   "outputs": [],
   "source": [
    "%timeit my_add_numpy(A,B)"
   ]
  },
  {
   "cell_type": "markdown",
   "metadata": {
    "slideshow": {
     "slide_type": "slide"
    }
   },
   "source": [
    "Sources:\n",
    "- http://jakevdp.github.io/blog/2012/08/24/numba-vs-cython/\n",
    "- https://www.ibm.com/developerworks/community/blogs/jfp/entry/Python_Meets_Julia_Micro_Performance?lang=en\n",
    "- https://www.youtube.com/watch?v=SUf-ALvk3cU\n"
   ]
  },
  {
   "cell_type": "markdown",
   "metadata": {
    "slideshow": {
     "slide_type": "subslide"
    }
   },
   "source": [
    "For slideshow in jupyter\n",
    "https://github.com/damianavila/RISE"
   ]
  },
  {
   "cell_type": "markdown",
   "metadata": {},
   "source": [
    "https://www.youtube.com/watch?v=NfnMJMkhDoQ"
   ]
  }
 ],
 "metadata": {
  "celltoolbar": "Slideshow",
  "kernelspec": {
   "display_name": "Python 3 (ipykernel)",
   "language": "python",
   "name": "python3"
  },
  "language_info": {
   "codemirror_mode": {
    "name": "ipython",
    "version": 3
   },
   "file_extension": ".py",
   "mimetype": "text/x-python",
   "name": "python",
   "nbconvert_exporter": "python",
   "pygments_lexer": "ipython3",
   "version": "3.8.6"
  }
 },
 "nbformat": 4,
 "nbformat_minor": 2
}

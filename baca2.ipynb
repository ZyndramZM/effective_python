{
 "cells": [
  {
   "cell_type": "markdown",
   "source": [
    "## Dekoratory"
   ],
   "metadata": {
    "collapsed": false,
    "pycharm": {
     "name": "#%% md\n"
    }
   }
  },
  {
   "cell_type": "code",
   "execution_count": 12,
   "outputs": [],
   "source": [
    "from sys import setrecursionlimit\n",
    "setrecursionlimit(10**9)"
   ],
   "metadata": {
    "collapsed": false,
    "pycharm": {
     "name": "#%%\n"
    }
   }
  },
  {
   "cell_type": "code",
   "execution_count": 5,
   "outputs": [
    {
     "ename": "ValueError",
     "evalue": "invalid argument",
     "output_type": "error",
     "traceback": [
      "\u001B[0;31m---------------------------------------------------------------------------\u001B[0m",
      "\u001B[0;31mValueError\u001B[0m                                Traceback (most recent call last)",
      "Input \u001B[0;32mIn [5]\u001B[0m, in \u001B[0;36m<cell line: 14>\u001B[0;34m()\u001B[0m\n\u001B[1;32m     10\u001B[0m \u001B[38;5;129m@validate\u001B[39m\n\u001B[1;32m     11\u001B[0m \u001B[38;5;28;01mdef\u001B[39;00m \u001B[38;5;21mf\u001B[39m(x):\n\u001B[1;32m     12\u001B[0m     \u001B[38;5;28;01mreturn\u001B[39;00m x \u001B[38;5;241m*\u001B[39m\u001B[38;5;241m*\u001B[39m (\u001B[38;5;241m1\u001B[39m \u001B[38;5;241m/\u001B[39m \u001B[38;5;241m2\u001B[39m)\n\u001B[0;32m---> 14\u001B[0m \u001B[38;5;28mprint\u001B[39m(\u001B[43mvalidate\u001B[49m\u001B[43m(\u001B[49m\u001B[43mf\u001B[49m\u001B[43m)\u001B[49m\u001B[43m(\u001B[49m\u001B[38;5;241;43m-\u001B[39;49m\u001B[38;5;241;43m1\u001B[39;49m\u001B[43m)\u001B[49m)\n",
      "Input \u001B[0;32mIn [5]\u001B[0m, in \u001B[0;36mvalidate.<locals>.wrapper\u001B[0;34m(x)\u001B[0m\n\u001B[1;32m      4\u001B[0m     \u001B[38;5;28;01mreturn\u001B[39;00m func(x)\n\u001B[1;32m      5\u001B[0m \u001B[38;5;28;01melse\u001B[39;00m:\n\u001B[0;32m----> 6\u001B[0m     \u001B[38;5;28;01mraise\u001B[39;00m \u001B[38;5;167;01mValueError\u001B[39;00m(\u001B[38;5;124m\"\u001B[39m\u001B[38;5;124minvalid argument\u001B[39m\u001B[38;5;124m\"\u001B[39m)\n",
      "\u001B[0;31mValueError\u001B[0m: invalid argument"
     ]
    }
   ],
   "source": [
    "def validate(func):\n",
    "    def wrapper(x):\n",
    "        if x >= 0:\n",
    "            return func(x)\n",
    "        else:\n",
    "            raise ValueError(\"invalid argument\")\n",
    "\n",
    "    return wrapper\n",
    "\n",
    "@validate\n",
    "def f(x):\n",
    "    return x ** (1 / 2)\n",
    "\n",
    "print(validate(f)(-1))\n"
   ],
   "metadata": {
    "collapsed": false,
    "pycharm": {
     "name": "#%%\n"
    }
   }
  },
  {
   "cell_type": "code",
   "execution_count": 11,
   "outputs": [
    {
     "name": "stdout",
     "output_type": "stream",
     "text": [
      "25\n"
     ]
    },
    {
     "ename": "ValueError",
     "evalue": "invalid argument",
     "output_type": "error",
     "traceback": [
      "\u001B[0;31m---------------------------------------------------------------------------\u001B[0m",
      "\u001B[0;31mValueError\u001B[0m                                Traceback (most recent call last)",
      "Input \u001B[0;32mIn [11]\u001B[0m, in \u001B[0;36m<cell line: 18>\u001B[0;34m()\u001B[0m\n\u001B[1;32m     16\u001B[0m \u001B[38;5;28mprint\u001B[39m(f(\u001B[38;5;241m5\u001B[39m))\n\u001B[1;32m     17\u001B[0m \u001B[38;5;66;03m# print(f(-1))\u001B[39;00m\n\u001B[0;32m---> 18\u001B[0m \u001B[38;5;28mprint\u001B[39m(\u001B[43mvalidate\u001B[49m\u001B[43m(\u001B[49m\u001B[38;5;241;43m0\u001B[39;49m\u001B[43m,\u001B[49m\u001B[43m \u001B[49m\u001B[38;5;241;43m20\u001B[39;49m\u001B[43m)\u001B[49m\u001B[43m(\u001B[49m\u001B[43mf\u001B[49m\u001B[43m)\u001B[49m\u001B[43m(\u001B[49m\u001B[38;5;241;43m21\u001B[39;49m\u001B[43m)\u001B[49m)\n",
      "Input \u001B[0;32mIn [11]\u001B[0m, in \u001B[0;36mvalidate.<locals>.decorator.<locals>.wrapper\u001B[0;34m(x)\u001B[0m\n\u001B[1;32m      5\u001B[0m     \u001B[38;5;28;01mreturn\u001B[39;00m func(x)\n\u001B[1;32m      6\u001B[0m \u001B[38;5;28;01melse\u001B[39;00m:\n\u001B[0;32m----> 7\u001B[0m     \u001B[38;5;28;01mraise\u001B[39;00m \u001B[38;5;167;01mValueError\u001B[39;00m(\u001B[38;5;124m\"\u001B[39m\u001B[38;5;124minvalid argument\u001B[39m\u001B[38;5;124m\"\u001B[39m)\n",
      "\u001B[0;31mValueError\u001B[0m: invalid argument"
     ]
    }
   ],
   "source": [
    "def validate(min_x, max_x):\n",
    "    def decorator(func):\n",
    "        def wrapper(x):\n",
    "            if min_x <= x <= max_x:\n",
    "                return func(x)\n",
    "            else:\n",
    "                raise ValueError(\"invalid argument\")\n",
    "\n",
    "        return wrapper\n",
    "    return decorator\n",
    "\n",
    "# @validate(0, 10)\n",
    "def f(x):\n",
    "    return x*x\n",
    "\n",
    "print(f(5))\n",
    "# print(f(-1))\n",
    "print(validate(0, 20)(f)(14))\n"
   ],
   "metadata": {
    "collapsed": false,
    "pycharm": {
     "name": "#%%\n"
    }
   }
  },
  {
   "cell_type": "code",
   "execution_count": 18,
   "outputs": [
    {
     "name": "stdout",
     "output_type": "stream",
     "text": [
      "359579325206583560961765665172189099052367214309267232255589801\n",
      "Function fib called 599 times, evaluated 301 times.\n"
     ]
    }
   ],
   "source": [
    "class cached:\n",
    "    def __init__(self, func):\n",
    "        self.func = func\n",
    "        self.cache = {}\n",
    "        self.called = 0\n",
    "        self.evaluated = 0\n",
    "\n",
    "    def __call__(self, *args, **kwargs):\n",
    "        self.called += 1\n",
    "        arg = (args, tuple(sorted(kwargs.items())))\n",
    "        val = self.cache.get(arg)\n",
    "        if val is None:\n",
    "            self.evaluated += 1\n",
    "            val = self.func(*args, **kwargs)\n",
    "            self.cache[arg] = val\n",
    "        return val\n",
    "\n",
    "    def cache_status(self):\n",
    "        return f\"Function {self.func.__name__} called {self.called} times, evaluated {self.evaluated} times.\"\n",
    "\n",
    "@cached\n",
    "def fib(n):\n",
    "    if n < 2:\n",
    "        return 1\n",
    "    return fib(n-1) + fib(n-2)\n",
    "\n",
    "print(fib(300))\n",
    "print(fib.cache_status())"
   ],
   "metadata": {
    "collapsed": false,
    "pycharm": {
     "name": "#%%\n"
    }
   }
  }
 ],
 "metadata": {
  "kernelspec": {
   "display_name": "Python 3",
   "language": "python",
   "name": "python3"
  },
  "language_info": {
   "codemirror_mode": {
    "name": "ipython",
    "version": 2
   },
   "file_extension": ".py",
   "mimetype": "text/x-python",
   "name": "python",
   "nbconvert_exporter": "python",
   "pygments_lexer": "ipython2",
   "version": "2.7.6"
  }
 },
 "nbformat": 4,
 "nbformat_minor": 0
}
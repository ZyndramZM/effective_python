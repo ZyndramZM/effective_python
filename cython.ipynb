{
 "cells": [
  {
   "cell_type": "code",
   "execution_count": 15,
   "outputs": [
    {
     "name": "stdout",
     "output_type": "stream",
     "text": [
      "The Cython extension is already loaded. To reload it, use:\n",
      "  %reload_ext Cython\n"
     ]
    }
   ],
   "source": [
    "%load_ext Cython"
   ],
   "metadata": {
    "collapsed": false,
    "pycharm": {
     "name": "#%%\n"
    }
   }
  },
  {
   "cell_type": "code",
   "execution_count": 16,
   "outputs": [],
   "source": [
    "from time import time\n",
    "\n",
    "\n",
    "def timeit(func):\n",
    "    def wrapper(*args, **kwargs):\n",
    "        print(f\"Evaluation time for function {func.__name__}{args}... \", end=\"\")\n",
    "        start_time = time()\n",
    "        # res = func(*args, **kwargs)\n",
    "        func(*args, **kwargs)\n",
    "        end_time = time()\n",
    "        print(f\"{round(end_time - start_time, 3)} s\")\n",
    "        return None\n",
    "\n",
    "    return wrapper\n"
   ],
   "metadata": {
    "collapsed": false,
    "pycharm": {
     "name": "#%%\n"
    }
   }
  },
  {
   "cell_type": "code",
   "execution_count": 17,
   "outputs": [],
   "source": [
    "# @timeit\n",
    "def find_primes_python(n):\n",
    "    primes = []\n",
    "    number = 2\n",
    "\n",
    "    while len(primes) < n:\n",
    "        for prime in primes:\n",
    "            if number % prime == 0:\n",
    "                break\n",
    "        else:\n",
    "            primes.append(number)\n",
    "        number += 1\n",
    "\n",
    "    return primes"
   ],
   "metadata": {
    "collapsed": false,
    "pycharm": {
     "name": "#%%\n"
    }
   }
  },
  {
   "cell_type": "code",
   "execution_count": 18,
   "outputs": [],
   "source": [
    "%%cython\n",
    "\n",
    "# @timeit\n",
    "def find_primes_cython(n):\n",
    "    primes = []\n",
    "    number = 2\n",
    "\n",
    "    while len(primes) < n:\n",
    "        for prime in primes:\n",
    "            if number % prime == 0:\n",
    "                break\n",
    "        else:\n",
    "            primes.append(number)\n",
    "        number += 1\n",
    "\n",
    "    return primes"
   ],
   "metadata": {
    "collapsed": false,
    "pycharm": {
     "name": "#%%\n"
    }
   }
  },
  {
   "cell_type": "code",
   "execution_count": 23,
   "outputs": [],
   "source": [
    "%%cython\n",
    "\n",
    "cimport cython\n",
    "@cython.nonecheck(True)\n",
    "cpdef void find_primes_cython_types(int n):\n",
    "    cdef int number, len_primes\n",
    "    cdef int primes[25000]\n",
    "\n",
    "    # primes = [0] * 25000\n",
    "\n",
    "    number = 2\n",
    "    len_primes = 0\n",
    "    while len_primes < n:\n",
    "        for prime in primes[:len_primes]:\n",
    "            if number % prime == 0:\n",
    "                break\n",
    "        else:\n",
    "            primes[len_primes] = number\n",
    "            len_primes += 1\n",
    "        number += 1\n",
    "\n",
    "    # res = [prime for prime in primes[:len_primes]]\n",
    "    # return primes"
   ],
   "metadata": {
    "collapsed": false,
    "pycharm": {
     "name": "#%%\n"
    }
   }
  },
  {
   "cell_type": "code",
   "execution_count": 24,
   "outputs": [
    {
     "name": "stdout",
     "output_type": "stream",
     "text": [
      "Evaluation time for function find_primes_python(1000,)... 0.093 s\n",
      "Evaluation time for function find_primes_cython(1000,)... 0.022 s\n",
      "Evaluation time for function find_primes_cython_types(1000,)... 0.043 s\n",
      "\n",
      "Evaluation time for function find_primes_python(3000,)... 0.255 s\n",
      "Evaluation time for function find_primes_cython(3000,)... 0.114 s\n",
      "Evaluation time for function find_primes_cython_types(3000,)... 0.45 s\n",
      "\n",
      "Evaluation time for function find_primes_python(5000,)... 0.637 s\n",
      "Evaluation time for function find_primes_cython(5000,)... 0.316 s\n",
      "Evaluation time for function find_primes_cython_types(5000,)... 0.607 s\n",
      "\n",
      "Evaluation time for function find_primes_python(10000,)... 2.602 s\n",
      "Evaluation time for function find_primes_cython(10000,)... 1.329 s\n",
      "Evaluation time for function find_primes_cython_types(10000,)... 2.635 s\n",
      "\n"
     ]
    }
   ],
   "source": [
    "ARGS = [1000, 3000, 5000, 10000]#, 20000]\n",
    "for arg in ARGS:\n",
    "    x = timeit(find_primes_python)(arg)\n",
    "    x = timeit(find_primes_cython)(arg)\n",
    "    x = timeit(find_primes_cython_types)(arg)\n",
    "    print()"
   ],
   "metadata": {
    "collapsed": false,
    "pycharm": {
     "name": "#%%\n"
    }
   }
  }
 ],
 "metadata": {
  "kernelspec": {
   "display_name": "Python 3",
   "language": "python",
   "name": "python3"
  },
  "language_info": {
   "codemirror_mode": {
    "name": "ipython",
    "version": 2
   },
   "file_extension": ".py",
   "mimetype": "text/x-python",
   "name": "python",
   "nbconvert_exporter": "python",
   "pygments_lexer": "ipython2",
   "version": "2.7.6"
  }
 },
 "nbformat": 4,
 "nbformat_minor": 0
}